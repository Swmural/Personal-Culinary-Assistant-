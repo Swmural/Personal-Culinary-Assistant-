{
  "nbformat": 4,
  "nbformat_minor": 0,
  "metadata": {
    "colab": {
      "provenance": []
    },
    "kernelspec": {
      "name": "python3",
      "display_name": "Python 3"
    },
    "language_info": {
      "name": "python"
    }
  },
  "cells": [
    {
      "cell_type": "markdown",
      "source": [
        "\n",
        "### *Note: This notebook was originally designed as a reference for building the agent. Several modifications were made to integrate the Langraph framework.*"
      ],
      "metadata": {
        "id": "kJHMs1fjMkEX"
      }
    },
    {
      "cell_type": "code",
      "source": [
        "!pip install langchain-community"
      ],
      "metadata": {
        "colab": {
          "base_uri": "https://localhost:8080/"
        },
        "id": "GECEJweu7hgH",
        "outputId": "cde78f60-4f68-4acd-920d-639d3e34e9f7"
      },
      "execution_count": 1,
      "outputs": [
        {
          "output_type": "stream",
          "name": "stdout",
          "text": [
            "Collecting langchain-community\n",
            "  Downloading langchain_community-0.3.14-py3-none-any.whl.metadata (2.9 kB)\n",
            "Requirement already satisfied: PyYAML>=5.3 in /usr/local/lib/python3.11/dist-packages (from langchain-community) (6.0.2)\n",
            "Requirement already satisfied: SQLAlchemy<3,>=1.4 in /usr/local/lib/python3.11/dist-packages (from langchain-community) (2.0.37)\n",
            "Requirement already satisfied: aiohttp<4.0.0,>=3.8.3 in /usr/local/lib/python3.11/dist-packages (from langchain-community) (3.11.11)\n",
            "Collecting dataclasses-json<0.7,>=0.5.7 (from langchain-community)\n",
            "  Downloading dataclasses_json-0.6.7-py3-none-any.whl.metadata (25 kB)\n",
            "Collecting httpx-sse<0.5.0,>=0.4.0 (from langchain-community)\n",
            "  Downloading httpx_sse-0.4.0-py3-none-any.whl.metadata (9.0 kB)\n",
            "Requirement already satisfied: langchain<0.4.0,>=0.3.14 in /usr/local/lib/python3.11/dist-packages (from langchain-community) (0.3.14)\n",
            "Requirement already satisfied: langchain-core<0.4.0,>=0.3.29 in /usr/local/lib/python3.11/dist-packages (from langchain-community) (0.3.29)\n",
            "Requirement already satisfied: langsmith<0.3,>=0.1.125 in /usr/local/lib/python3.11/dist-packages (from langchain-community) (0.2.10)\n",
            "Requirement already satisfied: numpy<2,>=1.22.4 in /usr/local/lib/python3.11/dist-packages (from langchain-community) (1.26.4)\n",
            "Collecting pydantic-settings<3.0.0,>=2.4.0 (from langchain-community)\n",
            "  Downloading pydantic_settings-2.7.1-py3-none-any.whl.metadata (3.5 kB)\n",
            "Requirement already satisfied: requests<3,>=2 in /usr/local/lib/python3.11/dist-packages (from langchain-community) (2.32.3)\n",
            "Requirement already satisfied: tenacity!=8.4.0,<10,>=8.1.0 in /usr/local/lib/python3.11/dist-packages (from langchain-community) (9.0.0)\n",
            "Requirement already satisfied: aiohappyeyeballs>=2.3.0 in /usr/local/lib/python3.11/dist-packages (from aiohttp<4.0.0,>=3.8.3->langchain-community) (2.4.4)\n",
            "Requirement already satisfied: aiosignal>=1.1.2 in /usr/local/lib/python3.11/dist-packages (from aiohttp<4.0.0,>=3.8.3->langchain-community) (1.3.2)\n",
            "Requirement already satisfied: attrs>=17.3.0 in /usr/local/lib/python3.11/dist-packages (from aiohttp<4.0.0,>=3.8.3->langchain-community) (24.3.0)\n",
            "Requirement already satisfied: frozenlist>=1.1.1 in /usr/local/lib/python3.11/dist-packages (from aiohttp<4.0.0,>=3.8.3->langchain-community) (1.5.0)\n",
            "Requirement already satisfied: multidict<7.0,>=4.5 in /usr/local/lib/python3.11/dist-packages (from aiohttp<4.0.0,>=3.8.3->langchain-community) (6.1.0)\n",
            "Requirement already satisfied: propcache>=0.2.0 in /usr/local/lib/python3.11/dist-packages (from aiohttp<4.0.0,>=3.8.3->langchain-community) (0.2.1)\n",
            "Requirement already satisfied: yarl<2.0,>=1.17.0 in /usr/local/lib/python3.11/dist-packages (from aiohttp<4.0.0,>=3.8.3->langchain-community) (1.18.3)\n",
            "Collecting marshmallow<4.0.0,>=3.18.0 (from dataclasses-json<0.7,>=0.5.7->langchain-community)\n",
            "  Downloading marshmallow-3.25.1-py3-none-any.whl.metadata (7.3 kB)\n",
            "Collecting typing-inspect<1,>=0.4.0 (from dataclasses-json<0.7,>=0.5.7->langchain-community)\n",
            "  Downloading typing_inspect-0.9.0-py3-none-any.whl.metadata (1.5 kB)\n",
            "Requirement already satisfied: langchain-text-splitters<0.4.0,>=0.3.3 in /usr/local/lib/python3.11/dist-packages (from langchain<0.4.0,>=0.3.14->langchain-community) (0.3.5)\n",
            "Requirement already satisfied: pydantic<3.0.0,>=2.7.4 in /usr/local/lib/python3.11/dist-packages (from langchain<0.4.0,>=0.3.14->langchain-community) (2.10.5)\n",
            "Requirement already satisfied: jsonpatch<2.0,>=1.33 in /usr/local/lib/python3.11/dist-packages (from langchain-core<0.4.0,>=0.3.29->langchain-community) (1.33)\n",
            "Requirement already satisfied: packaging<25,>=23.2 in /usr/local/lib/python3.11/dist-packages (from langchain-core<0.4.0,>=0.3.29->langchain-community) (24.2)\n",
            "Requirement already satisfied: typing-extensions>=4.7 in /usr/local/lib/python3.11/dist-packages (from langchain-core<0.4.0,>=0.3.29->langchain-community) (4.12.2)\n",
            "Requirement already satisfied: httpx<1,>=0.23.0 in /usr/local/lib/python3.11/dist-packages (from langsmith<0.3,>=0.1.125->langchain-community) (0.28.1)\n",
            "Requirement already satisfied: orjson<4.0.0,>=3.9.14 in /usr/local/lib/python3.11/dist-packages (from langsmith<0.3,>=0.1.125->langchain-community) (3.10.14)\n",
            "Requirement already satisfied: requests-toolbelt<2.0.0,>=1.0.0 in /usr/local/lib/python3.11/dist-packages (from langsmith<0.3,>=0.1.125->langchain-community) (1.0.0)\n",
            "Collecting python-dotenv>=0.21.0 (from pydantic-settings<3.0.0,>=2.4.0->langchain-community)\n",
            "  Downloading python_dotenv-1.0.1-py3-none-any.whl.metadata (23 kB)\n",
            "Requirement already satisfied: charset-normalizer<4,>=2 in /usr/local/lib/python3.11/dist-packages (from requests<3,>=2->langchain-community) (3.4.1)\n",
            "Requirement already satisfied: idna<4,>=2.5 in /usr/local/lib/python3.11/dist-packages (from requests<3,>=2->langchain-community) (3.10)\n",
            "Requirement already satisfied: urllib3<3,>=1.21.1 in /usr/local/lib/python3.11/dist-packages (from requests<3,>=2->langchain-community) (2.3.0)\n",
            "Requirement already satisfied: certifi>=2017.4.17 in /usr/local/lib/python3.11/dist-packages (from requests<3,>=2->langchain-community) (2024.12.14)\n",
            "Requirement already satisfied: greenlet!=0.4.17 in /usr/local/lib/python3.11/dist-packages (from SQLAlchemy<3,>=1.4->langchain-community) (3.1.1)\n",
            "Requirement already satisfied: anyio in /usr/local/lib/python3.11/dist-packages (from httpx<1,>=0.23.0->langsmith<0.3,>=0.1.125->langchain-community) (3.7.1)\n",
            "Requirement already satisfied: httpcore==1.* in /usr/local/lib/python3.11/dist-packages (from httpx<1,>=0.23.0->langsmith<0.3,>=0.1.125->langchain-community) (1.0.7)\n",
            "Requirement already satisfied: h11<0.15,>=0.13 in /usr/local/lib/python3.11/dist-packages (from httpcore==1.*->httpx<1,>=0.23.0->langsmith<0.3,>=0.1.125->langchain-community) (0.14.0)\n",
            "Requirement already satisfied: jsonpointer>=1.9 in /usr/local/lib/python3.11/dist-packages (from jsonpatch<2.0,>=1.33->langchain-core<0.4.0,>=0.3.29->langchain-community) (3.0.0)\n",
            "Requirement already satisfied: annotated-types>=0.6.0 in /usr/local/lib/python3.11/dist-packages (from pydantic<3.0.0,>=2.7.4->langchain<0.4.0,>=0.3.14->langchain-community) (0.7.0)\n",
            "Requirement already satisfied: pydantic-core==2.27.2 in /usr/local/lib/python3.11/dist-packages (from pydantic<3.0.0,>=2.7.4->langchain<0.4.0,>=0.3.14->langchain-community) (2.27.2)\n",
            "Collecting mypy-extensions>=0.3.0 (from typing-inspect<1,>=0.4.0->dataclasses-json<0.7,>=0.5.7->langchain-community)\n",
            "  Downloading mypy_extensions-1.0.0-py3-none-any.whl.metadata (1.1 kB)\n",
            "Requirement already satisfied: sniffio>=1.1 in /usr/local/lib/python3.11/dist-packages (from anyio->httpx<1,>=0.23.0->langsmith<0.3,>=0.1.125->langchain-community) (1.3.1)\n",
            "Downloading langchain_community-0.3.14-py3-none-any.whl (2.5 MB)\n",
            "\u001b[2K   \u001b[90m━━━━━━━━━━━━━━━━━━━━━━━━━━━━━━━━━━━━━━━━\u001b[0m \u001b[32m2.5/2.5 MB\u001b[0m \u001b[31m14.7 MB/s\u001b[0m eta \u001b[36m0:00:00\u001b[0m\n",
            "\u001b[?25hDownloading dataclasses_json-0.6.7-py3-none-any.whl (28 kB)\n",
            "Downloading httpx_sse-0.4.0-py3-none-any.whl (7.8 kB)\n",
            "Downloading pydantic_settings-2.7.1-py3-none-any.whl (29 kB)\n",
            "Downloading marshmallow-3.25.1-py3-none-any.whl (49 kB)\n",
            "\u001b[2K   \u001b[90m━━━━━━━━━━━━━━━━━━━━━━━━━━━━━━━━━━━━━━━━\u001b[0m \u001b[32m49.6/49.6 kB\u001b[0m \u001b[31m2.3 MB/s\u001b[0m eta \u001b[36m0:00:00\u001b[0m\n",
            "\u001b[?25hDownloading python_dotenv-1.0.1-py3-none-any.whl (19 kB)\n",
            "Downloading typing_inspect-0.9.0-py3-none-any.whl (8.8 kB)\n",
            "Downloading mypy_extensions-1.0.0-py3-none-any.whl (4.7 kB)\n",
            "Installing collected packages: python-dotenv, mypy-extensions, marshmallow, httpx-sse, typing-inspect, pydantic-settings, dataclasses-json, langchain-community\n",
            "Successfully installed dataclasses-json-0.6.7 httpx-sse-0.4.0 langchain-community-0.3.14 marshmallow-3.25.1 mypy-extensions-1.0.0 pydantic-settings-2.7.1 python-dotenv-1.0.1 typing-inspect-0.9.0\n"
          ]
        }
      ]
    },
    {
      "cell_type": "code",
      "source": [
        "from langchain.chat_models import ChatOpenAI\n",
        "import re\n",
        "import requests"
      ],
      "metadata": {
        "id": "EoWruSGJ7Wxv"
      },
      "execution_count": 4,
      "outputs": []
    },
    {
      "cell_type": "code",
      "source": [
        "class LangraphAgent:\n",
        "    def __init__(self, openai_api_key, spoonacular_api_key, custom_base_url):\n",
        "        self.openai_api_key = openai_api_key\n",
        "        self.spoonacular_api_key = spoonacular_api_key\n",
        "        self.model = ChatOpenAI(\n",
        "            model=\"gpt-4o-mini\",\n",
        "            temperature=0,\n",
        "            openai_api_key=openai_api_key,\n",
        "            base_url=custom_base_url,\n",
        "        )\n",
        "\n",
        "    def query_openai(self, query):\n",
        "        try:\n",
        "            response = self.model.invoke(query)\n",
        "            return response  # Response already returns a clean result\n",
        "        except Exception as e:\n",
        "            return f\"Error invoking model: {e}\"\n",
        "\n",
        "    def extract_ingredients(self, text):\n",
        "        words = re.findall(r'\\b\\w+\\b', text)\n",
        "        query = f\"Extract ingredients from the following text: '{words}'. Only give ingredients, don't give other things. If no ingredients are found just return None\"\n",
        "        try:\n",
        "            response = self.model.invoke(query)\n",
        "            ai_message_content = response.content\n",
        "            print(\"ai_message_content:\",ai_message_content)\n",
        "            if(ai_message_content == \"None\"):\n",
        "                ingredients = []\n",
        "                # print(\"Ingredients not found\")\n",
        "            else:\n",
        "            # Parse the response for ingredients\n",
        "                ingredients = ai_message_content.split(\", \")  # Assuming the response lists ingredients\n",
        "                ingredients = [ingredient.strip() for ingredient in ingredients if ingredient]\n",
        "\n",
        "        except Exception as e:\n",
        "            return []\n",
        "        return ingredients\n",
        "\n",
        "    def get_recipe(self, ingredients):\n",
        "        if not ingredients:\n",
        "            return \"No valid ingredients found to generate a recipe.\"\n",
        "        url = f\"https://api.spoonacular.com/recipes/findByIngredients?ingredients={','.join(ingredients)}&apiKey={self.spoonacular_api_key}\"\n",
        "        response = requests.get(url)\n",
        "\n",
        "        if response.status_code == 200:\n",
        "            recipes = response.json()\n",
        "            if recipes:\n",
        "                print(recipes)\n",
        "                return [recipe['title'] for recipe in recipes]\n",
        "            else:\n",
        "                return \"No recipes found for the given ingredients.\"\n",
        "        else:\n",
        "            return f\"Error from Spoonacular API: {response.status_code}, {response.text}\"\n",
        "\n",
        "    def is_recipe_query(self, query):\n",
        "        keywords = {'recipe', 'cook', 'ingredient', 'dish', 'food', 'meal'}\n",
        "        return any(keyword in query.lower() for keyword in keywords)\n",
        "\n",
        "    def handle_query(self, query):\n",
        "        if self.is_recipe_query(query):\n",
        "            ingredients = self.extract_ingredients(query)\n",
        "            print(f\"Extracted ingredients: {ingredients}\")  # Debugging log\n",
        "            if len(ingredients) == 0:\n",
        "              return self.query_openai(query)\n",
        "            else:\n",
        "              return self.get_recipe(ingredients)\n",
        "        else:\n",
        "            return self.query_openai(query)"
      ],
      "metadata": {
        "id": "7d9MO0b57cxp"
      },
      "execution_count": 5,
      "outputs": []
    },
    {
      "cell_type": "code",
      "source": [
        "# Usage\n",
        "openai_api_key = 'YOUR_OPENAI_API_KEY'  # Replace with your actual API key\n",
        "spoonacular_api_key = 'YOUR_SPPONACULAR_API_KEY'  # Replace with your actual Spoonacular API key\n",
        "custom_base_url = 'CUSTOM_OPENAI_BASE_URL'\n",
        "agent = LangraphAgent(openai_api_key, spoonacular_api_key,custom_base_url)\n",
        "\n",
        "response = agent.handle_query(\"I have tomato and potato as ingredients, suggest me some recipe.\")\n",
        "print(response)\n"
      ],
      "metadata": {
        "id": "9V4n-HTj7ubR",
        "colab": {
          "base_uri": "https://localhost:8080/"
        },
        "outputId": "810fd9f8-370d-4987-cf68-17672c8e137f"
      },
      "execution_count": 6,
      "outputs": [
        {
          "output_type": "stream",
          "name": "stderr",
          "text": [
            "<ipython-input-5-a4ab6c801fd8>:5: LangChainDeprecationWarning: The class `ChatOpenAI` was deprecated in LangChain 0.0.10 and will be removed in 1.0. An updated version of the class exists in the :class:`~langchain-openai package and should be used instead. To use it run `pip install -U :class:`~langchain-openai` and import as `from :class:`~langchain_openai import ChatOpenAI``.\n",
            "  self.model = ChatOpenAI(\n"
          ]
        },
        {
          "output_type": "stream",
          "name": "stdout",
          "text": [
            "ai_message_content: tomato, potato\n",
            "Extracted ingredients: ['tomato', 'potato']\n",
            "[{'id': 655601, 'title': 'Penne with Sausage, Tomatoes and Potatoes', 'image': 'https://img.spoonacular.com/recipes/655601-312x231.jpg', 'imageType': 'jpg', 'usedIngredientCount': 2, 'missedIngredientCount': 3, 'missedIngredients': [{'id': 1001, 'amount': 0.5, 'unit': 'pound', 'unitLong': 'pounds', 'unitShort': 'lb', 'aisle': 'Milk, Eggs, Other Dairy', 'name': 'butter', 'original': '1/2 pound butter', 'originalName': 'butter', 'meta': [], 'image': 'https://img.spoonacular.com/ingredients_100x100/butter-sliced.jpg'}, {'id': 7036, 'amount': 4.0, 'unit': '', 'unitLong': '', 'unitShort': '', 'aisle': 'Meat', 'name': 'sausages', 'original': '4 sweet Italian sausages cut in chunks', 'originalName': 'sweet Italian sausages cut in chunks', 'meta': ['sweet', 'italian', 'cut in chunks'], 'extendedName': 'italian sweet sausages', 'image': 'https://img.spoonacular.com/ingredients_100x100/raw-pork-sausage.png'}, {'id': 11120420, 'amount': 1.0, 'unit': 'pound', 'unitLong': 'pound', 'unitShort': 'lb', 'aisle': 'Pasta and Rice', 'name': 'penne pasta', 'original': '1 pound penne pasta', 'originalName': 'penne pasta', 'meta': [], 'image': 'https://img.spoonacular.com/ingredients_100x100/penne-pasta.jpg'}], 'usedIngredients': [{'id': 10011531, 'amount': 15.0, 'unit': 'ounce', 'unitLong': 'ounces', 'unitShort': 'oz', 'aisle': 'Canned and Jarred', 'name': 'canned tomatoes', 'original': '1 can (15- ounce) whole tomatoes, drained, roughly chopped', 'originalName': 'can whole tomatoes, drained, roughly chopped', 'meta': ['whole', 'drained', 'roughly chopped', 'canned'], 'extendedName': 'whole canned tomatoes', 'image': 'https://img.spoonacular.com/ingredients_100x100/tomatoes-canned.png'}, {'id': 11352, 'amount': 2.0, 'unit': 'small', 'unitLong': 'smalls', 'unitShort': 'small', 'aisle': 'Produce', 'name': 'potatoes', 'original': '2 small potatoes, peeled and cut into medium size cubes', 'originalName': 'potatoes, peeled and cut into medium size cubes', 'meta': ['peeled', 'cut into medium size cubes'], 'image': 'https://img.spoonacular.com/ingredients_100x100/potatoes-yukon-gold.png'}], 'unusedIngredients': [], 'likes': 4}, {'id': 633224, 'title': 'Baby Brie-Topped Potato Slices', 'image': 'https://img.spoonacular.com/recipes/633224-312x231.jpg', 'imageType': 'jpg', 'usedIngredientCount': 2, 'missedIngredientCount': 3, 'missedIngredients': [{'id': 1006, 'amount': 8.0, 'unit': 'oz', 'unitLong': 'ounces', 'unitShort': 'oz', 'aisle': 'Cheese', 'name': 'alouette baby brie cheese', 'original': '1 package (8 oz.) Alouette Baby Brie Cheese, cut into 24 wedges', 'originalName': 'package Alouette Baby Brie Cheese, cut into 24 wedges', 'meta': ['cut into 24 wedges'], 'image': 'https://img.spoonacular.com/ingredients_100x100/brie.jpg'}, {'id': 2063, 'amount': 2.0, 'unit': 'teaspoons', 'unitLong': 'teaspoons', 'unitShort': 'tsp', 'aisle': 'Produce', 'name': 'rosemary leaves', 'original': '2 teaspoons chopped fresh rosemary leaves', 'originalName': 'chopped fresh rosemary leaves', 'meta': ['fresh', 'chopped'], 'extendedName': 'fresh rosemary leaves', 'image': 'https://img.spoonacular.com/ingredients_100x100/rosemary.jpg'}, {'id': 1032, 'amount': 1.0, 'unit': 'tablespoon', 'unitLong': 'tablespoon', 'unitShort': 'Tbsp', 'aisle': 'Cheese', 'name': 'parmesan cheese', 'original': '1 tablespoon grated parmesan cheese', 'originalName': 'grated parmesan cheese', 'meta': ['grated'], 'image': 'https://img.spoonacular.com/ingredients_100x100/parmesan.jpg'}], 'usedIngredients': [{'id': 10011355, 'amount': 8.0, 'unit': 'inches', 'unitLong': 'inches', 'unitShort': 'inches', 'aisle': 'Produce', 'name': 'smalls potatoes', 'original': '4 smalls red potatoes (about 2 inches each)', 'originalName': 'smalls red potatoes (about each)', 'meta': ['red'], 'extendedName': 'red smalls potatoes', 'image': 'https://img.spoonacular.com/ingredients_100x100/red-potatoes.jpg'}, {'id': 11955, 'amount': 0.25, 'unit': 'cup', 'unitLong': 'cups', 'unitShort': 'cup', 'aisle': 'Canned and Jarred', 'name': 'julienne-cut sundried tomatoes and herbs', 'original': '1/4 cup julienne-cut sundried tomatoes and herbs in oil, well dr', 'originalName': 'julienne-cut sundried tomatoes and herbs in oil, well dr', 'meta': ['well', 'in oil'], 'image': 'https://img.spoonacular.com/ingredients_100x100/sundried-tomatoes.jpg'}], 'unusedIngredients': [], 'likes': 1}, {'id': 641387, 'title': 'Delicious Creamy Lentils and Chestnuts Soup', 'image': 'https://img.spoonacular.com/recipes/641387-312x231.jpg', 'imageType': 'jpg', 'usedIngredientCount': 2, 'missedIngredientCount': 5, 'missedIngredients': [{'id': 2004, 'amount': 1.0, 'unit': '', 'unitLong': '', 'unitShort': '', 'aisle': 'Spices and Seasonings', 'name': 'bay leaf', 'original': '1 bay leaf', 'originalName': 'bay leaf', 'meta': [], 'image': 'https://img.spoonacular.com/ingredients_100x100/bay-leaves.jpg'}, {'id': 12098, 'amount': 0.25, 'unit': 'cup', 'unitLong': 'cups', 'unitShort': 'cup', 'aisle': 'Produce', 'name': 'roasted chestnuts', 'original': '1/4 cup of roasted chestnuts', 'originalName': 'roasted chestnuts', 'meta': [], 'image': 'https://img.spoonacular.com/ingredients_100x100/chestnuts.jpg'}, {'id': 11215, 'amount': 1.0, 'unit': 'clove', 'unitLong': 'clove', 'unitShort': 'clove', 'aisle': 'Produce', 'name': 'garlic', 'original': '1 clove or garlic minced', 'originalName': 'or garlic minced', 'meta': ['minced'], 'image': 'https://img.spoonacular.com/ingredients_100x100/garlic.png'}, {'id': 10316069, 'amount': 1.5, 'unit': 'cups', 'unitLong': 'cups', 'unitShort': 'cup', 'aisle': 'Pasta and Rice', 'name': 'lentils', 'original': '1 1/2 cups dry lentils', 'originalName': 'dry lentils', 'meta': ['dry'], 'extendedName': 'dry lentils', 'image': 'https://img.spoonacular.com/ingredients_100x100/lentils-brown.jpg'}, {'id': 11282, 'amount': 1.0, 'unit': '', 'unitLong': '', 'unitShort': '', 'aisle': 'Produce', 'name': 'onion', 'original': '1 onion chopped', 'originalName': 'onion chopped', 'meta': ['chopped'], 'image': 'https://img.spoonacular.com/ingredients_100x100/brown-onion.png'}], 'usedIngredients': [{'id': 11352, 'amount': 1.0, 'unit': '', 'unitLong': '', 'unitShort': '', 'aisle': 'Produce', 'name': 'potato', 'original': '1 potato', 'originalName': 'potato', 'meta': [], 'image': 'https://img.spoonacular.com/ingredients_100x100/potatoes-yukon-gold.png'}, {'id': 10311529, 'amount': 0.5, 'unit': 'cup', 'unitLong': 'cups', 'unitShort': 'cup', 'aisle': 'Produce', 'name': 'roma tomatoes', 'original': '1/2 cup of sweet cherry tomatoes or Roma tomatoes chopped', 'originalName': 'sweet cherry tomatoes or Roma tomatoes chopped', 'meta': ['sweet', 'chopped'], 'extendedName': 'sweet roma tomatoes', 'image': 'https://img.spoonacular.com/ingredients_100x100/cherry-tomatoes.png'}], 'unusedIngredients': [], 'likes': 1}, {'id': 656915, 'title': 'Potato and Green Bean Side Salad', 'image': 'https://img.spoonacular.com/recipes/656915-312x231.jpg', 'imageType': 'jpg', 'usedIngredientCount': 2, 'missedIngredientCount': 5, 'missedIngredients': [{'id': 2045, 'amount': 0.5, 'unit': 'cup', 'unitLong': 'cups', 'unitShort': 'cup', 'aisle': 'Spices and Seasonings', 'name': 'dill', 'original': '1/2 cup dill, chopped', 'originalName': 'dill, chopped', 'meta': ['chopped'], 'image': 'https://img.spoonacular.com/ingredients_100x100/dill.jpg'}, {'id': 11215, 'amount': 1.0, 'unit': 'clove', 'unitLong': 'clove', 'unitShort': 'clove', 'aisle': 'Produce', 'name': 'garlic', 'original': '1 clove garlic', 'originalName': 'garlic', 'meta': [], 'image': 'https://img.spoonacular.com/ingredients_100x100/garlic.png'}, {'id': 11052, 'amount': 0.75, 'unit': 'pound', 'unitLong': 'pounds', 'unitShort': 'lb', 'aisle': 'Produce', 'name': 'green beans', 'original': '3/4 pound green beans', 'originalName': 'green beans', 'meta': [], 'image': 'https://img.spoonacular.com/ingredients_100x100/green-beans-or-string-beans.jpg'}, {'id': 11297, 'amount': 0.5, 'unit': 'cup', 'unitLong': 'cups', 'unitShort': 'cup', 'aisle': 'Produce', 'name': 'parsley', 'original': '1/2 cup parsley, chopped', 'originalName': 'parsley, chopped', 'meta': ['chopped'], 'image': 'https://img.spoonacular.com/ingredients_100x100/parsley.jpg'}, {'id': 10011282, 'amount': 1.0, 'unit': '', 'unitLong': '', 'unitShort': '', 'aisle': 'Produce', 'name': 'onion', 'original': '1 red onion, sliced', 'originalName': 'red onion, sliced', 'meta': ['red', 'sliced'], 'extendedName': 'red onion', 'image': 'https://img.spoonacular.com/ingredients_100x100/red-onion.png'}], 'usedIngredients': [{'id': 10311529, 'amount': 2.0, 'unit': 'cups', 'unitLong': 'cups', 'unitShort': 'cup', 'aisle': 'Produce', 'name': 'cherry tomatoes', 'original': '2 cups cherry tomatoes', 'originalName': 'cherry tomatoes', 'meta': [], 'image': 'https://img.spoonacular.com/ingredients_100x100/cherry-tomatoes.png'}, {'id': 10111362, 'amount': 2.0, 'unit': 'pounds', 'unitLong': 'pounds', 'unitShort': 'lb', 'aisle': 'Produce', 'name': 'potatoes', 'original': '2 pounds red and white potatoes, chopped into 1 inch cubes', 'originalName': 'red and white potatoes, chopped into 1 inch cubes', 'meta': ['white', 'red', 'chopped'], 'extendedName': 'red white potatoes', 'image': 'https://img.spoonacular.com/ingredients_100x100/potatoes-yukon-gold.png'}], 'unusedIngredients': [], 'likes': 1}, {'id': 633735, 'title': 'Baked Potato Nests', 'image': 'https://img.spoonacular.com/recipes/633735-312x231.jpg', 'imageType': 'jpg', 'usedIngredientCount': 2, 'missedIngredientCount': 5, 'missedIngredients': [{'id': 1056, 'amount': 3.0, 'unit': 'Tbsp', 'unitLong': 'Tbsps', 'unitShort': 'Tbsp', 'aisle': 'Milk, Eggs, Other Dairy', 'name': 'cream', 'original': 'A few Tbsp of sour cream (if you wish)', 'originalName': 'A few of sour cream (if you wish)', 'meta': ['sour', '(if you wish)'], 'extendedName': 'sour cream', 'image': 'https://img.spoonacular.com/ingredients_100x100/sour-cream.jpg'}, {'id': 1021026, 'amount': 4.0, 'unit': 'tablespoons', 'unitLong': 'tablespoons', 'unitShort': 'Tbsp', 'aisle': 'Cheese', 'name': 'mozzarella', 'original': '4 tablespoons fresh mozzarella, cut into small pieces', 'originalName': 'fresh mozzarella, cut into small pieces', 'meta': ['fresh', 'cut into small pieces'], 'extendedName': 'fresh mozzarella', 'image': 'https://img.spoonacular.com/ingredients_100x100/mozzarella.png'}, {'id': 6168, 'amount': 0.5, 'unit': 'teaspoon', 'unitLong': 'teaspoons', 'unitShort': 'tsp', 'aisle': 'Condiments', 'name': 'hot sauce', 'original': '1/2 teaspoon hot sauce (or adjust to taste)', 'originalName': 'hot sauce (or adjust to taste)', 'meta': ['to taste', '(or adjust )'], 'image': 'https://img.spoonacular.com/ingredients_100x100/hot-sauce-or-tabasco.png'}, {'id': 2027, 'amount': 1.0, 'unit': 'teaspoon', 'unitLong': 'teaspoon', 'unitShort': 'tsp', 'aisle': 'Produce', 'name': 'oregano', 'original': '1 teaspoon oregano', 'originalName': 'oregano', 'meta': [], 'image': 'https://img.spoonacular.com/ingredients_100x100/oregano.jpg'}, {'id': 11477, 'amount': 3.0, 'unit': 'tablespoons', 'unitLong': 'tablespoons', 'unitShort': 'Tbsp', 'aisle': 'Produce', 'name': 'zucchini', 'original': '3 tablespoons diced zucchini', 'originalName': 'diced zucchini', 'meta': ['diced'], 'extendedName': 'diced zucchini', 'image': 'https://img.spoonacular.com/ingredients_100x100/zucchini.jpg'}], 'usedIngredients': [{'id': 11353, 'amount': 3.0, 'unit': '', 'unitLong': '', 'unitShort': '', 'aisle': 'Produce', 'name': 'russet potatoes', 'original': '3 russet potatoes', 'originalName': 'russet potatoes', 'meta': [], 'image': 'https://img.spoonacular.com/ingredients_100x100/russet-or-idaho-potatoes.png'}, {'id': 11529, 'amount': 3.0, 'unit': 'tablespoons', 'unitLong': 'tablespoons', 'unitShort': 'Tbsp', 'aisle': 'Produce', 'name': 'tomatoes', 'original': '3 tablespoons diced tomatoes', 'originalName': 'diced tomatoes', 'meta': ['diced'], 'extendedName': 'diced tomatoes', 'image': 'https://img.spoonacular.com/ingredients_100x100/tomato.png'}], 'unusedIngredients': [], 'likes': 1}, {'id': 639851, 'title': 'Cod with Tomato-Olive-Chorizo Sauce and Mashed Potatoes', 'image': 'https://img.spoonacular.com/recipes/639851-312x231.jpg', 'imageType': 'jpg', 'usedIngredientCount': 2, 'missedIngredientCount': 6, 'missedIngredients': [{'id': 1059195, 'amount': 50.0, 'unit': 'g', 'unitLong': 'grams', 'unitShort': 'g', 'aisle': 'Canned and Jarred', 'name': 'olives', 'original': '50g pitted black olives, halved', 'originalName': 'pitted black olives, halved', 'meta': ['black', 'pitted', 'halved'], 'extendedName': 'black olives', 'image': 'https://img.spoonacular.com/ingredients_100x100/black-olives.jpg'}, {'id': 15015, 'amount': 500.0, 'unit': 'g', 'unitLong': 'grams', 'unitShort': 'g', 'aisle': 'Seafood', 'name': 'cod fillets', 'original': '500 g cod fillets, fresh or frozen', 'originalName': 'cod fillets, fresh or frozen', 'meta': ['fresh'], 'extendedName': 'fresh cod fillets', 'image': 'https://img.spoonacular.com/ingredients_100x100/cod-fillet.jpg'}, {'id': 10511297, 'amount': 4.0, 'unit': 'Tbs', 'unitLong': 'Tbs', 'unitShort': 'Tbs', 'aisle': 'Produce', 'name': 'parsley', 'original': '4 Tbs fresh parsley, chopped', 'originalName': 'fresh parsley, chopped', 'meta': ['fresh', 'chopped'], 'extendedName': 'fresh parsley', 'image': 'https://img.spoonacular.com/ingredients_100x100/parsley.jpg'}, {'id': 9152, 'amount': 1.0, 'unit': 'Tbs', 'unitLong': 'Tb', 'unitShort': 'Tbs', 'aisle': 'Produce', 'name': 'lemon juice', 'original': '1 Tbs lemon juice', 'originalName': 'lemon juice', 'meta': [], 'image': 'https://img.spoonacular.com/ingredients_100x100/lemon-juice.jpg'}, {'id': 10211821, 'amount': 100.0, 'unit': 'g', 'unitLong': 'grams', 'unitShort': 'g', 'aisle': 'Produce', 'name': 'bell pepper', 'original': '100g fresh red pepper, trimmed, cut into small strips', 'originalName': 'fresh red pepper, trimmed, cut into small strips', 'meta': ['fresh', 'red', 'trimmed', 'cut into small strips'], 'extendedName': 'trimmed red fresh bell pepper', 'image': 'https://img.spoonacular.com/ingredients_100x100/bell-pepper-orange.png'}, {'id': 7916, 'amount': 100.0, 'unit': 'g', 'unitLong': 'grams', 'unitShort': 'g', 'aisle': 'Meat', 'name': 'a semi-smoked sausage', 'original': '100g chorizo or a semi-smoked sausage, cubed', 'originalName': 'chorizo or a semi-smoked sausage, cubed', 'meta': ['cubed'], 'image': 'https://img.spoonacular.com/ingredients_100x100/smoked-sausage.jpg'}], 'usedIngredients': [{'id': 10411529, 'amount': 240.0, 'unit': 'g', 'unitLong': 'grams', 'unitShort': 'g', 'aisle': 'Produce', 'name': 'plum tomatoes', 'original': '240g whole plum tomatoes, canned', 'originalName': 'whole plum tomatoes, canned', 'meta': ['whole', 'canned'], 'extendedName': 'canned whole plum tomatoes', 'image': 'https://img.spoonacular.com/ingredients_100x100/plum-tomatoes.png'}, {'id': 11352, 'amount': 300.0, 'unit': 'g', 'unitLong': 'grams', 'unitShort': 'g', 'aisle': 'Produce', 'name': 'potatoes', 'original': '300 g potatoes', 'originalName': 'potatoes', 'meta': [], 'image': 'https://img.spoonacular.com/ingredients_100x100/potatoes-yukon-gold.png'}], 'unusedIngredients': [], 'likes': 14}, {'id': 663680, 'title': 'Torta (Filipino Omelet)', 'image': 'https://img.spoonacular.com/recipes/663680-312x231.jpg', 'imageType': 'jpg', 'usedIngredientCount': 2, 'missedIngredientCount': 6, 'missedIngredients': [{'id': 10211215, 'amount': 4.0, 'unit': '', 'unitLong': '', 'unitShort': '', 'aisle': 'Produce', 'name': 'garlic cloves', 'original': '4 Garlic Cloves, minced', 'originalName': 'Garlic Cloves, minced', 'meta': ['minced'], 'image': 'https://img.spoonacular.com/ingredients_100x100/garlic.jpg'}, {'id': 11282, 'amount': 1.0, 'unit': '', 'unitLong': '', 'unitShort': '', 'aisle': 'Produce', 'name': 'onion', 'original': '1 Onion, finely diced', 'originalName': 'Onion, finely diced', 'meta': ['diced', 'finely'], 'extendedName': 'diced onion', 'image': 'https://img.spoonacular.com/ingredients_100x100/brown-onion.png'}, {'id': 1123, 'amount': 6.0, 'unit': '', 'unitLong': '', 'unitShort': '', 'aisle': 'Milk, Eggs, Other Dairy', 'name': 'eggs', 'original': '6 Large Eggs', 'originalName': 'Large Eggs', 'meta': [], 'image': 'https://img.spoonacular.com/ingredients_100x100/egg.png'}, {'id': 11291, 'amount': 1.0, 'unit': 'Bunch', 'unitLong': 'Bunch', 'unitShort': 'Bunch', 'aisle': 'Produce', 'name': 'scallions', 'original': '1 Bunch Scallions, finely chopped', 'originalName': 'Scallions, finely chopped', 'meta': ['finely chopped'], 'image': 'https://img.spoonacular.com/ingredients_100x100/spring-onions.jpg'}, {'id': 11165, 'amount': 0.25, 'unit': 'cup', 'unitLong': 'cups', 'unitShort': 'cup', 'aisle': 'Produce', 'name': 'cilantro', 'original': '1/4 cup Chopped Cilantro (optional)', 'originalName': 'Chopped Cilantro (optional)', 'meta': ['chopped'], 'image': 'https://img.spoonacular.com/ingredients_100x100/cilantro.png'}, {'id': 16424, 'amount': 4.0, 'unit': 'tablespoons', 'unitLong': 'tablespoons', 'unitShort': 'Tbsp', 'aisle': 'Condiments', 'name': 'soy sauce', 'original': '4 tablespoons Low-Sodium Soy Sauce', 'originalName': 'Low-Sodium Soy Sauce', 'meta': ['low-sodium'], 'extendedName': 'low sodium soy sauce', 'image': 'https://img.spoonacular.com/ingredients_100x100/soy-sauce.jpg'}], 'usedIngredients': [{'id': 11353, 'amount': 1.0, 'unit': 'pound', 'unitLong': 'pound', 'unitShort': 'lb', 'aisle': 'Produce', 'name': 'ground beef', 'original': '1 pound Ground Beef, low fat (or Pork, Turkey, 1 Russet Potato, diced', 'originalName': 'Ground Beef, low fat (or Pork, Turkey, 1 Russet Potato, diced', 'meta': ['diced', 'low fat'], 'extendedName': 'low fat diced ground beef', 'image': 'https://img.spoonacular.com/ingredients_100x100/russet-or-idaho-potatoes.png'}, {'id': 11531, 'amount': 1.0, 'unit': 'can', 'unitLong': 'can', 'unitShort': 'can', 'aisle': 'Canned and Jarred', 'name': 'tomatoes', 'original': '1 can Diced Tomatoes, liquid drained', 'originalName': 'Diced Tomatoes, liquid drained', 'meta': ['diced', 'drained'], 'extendedName': 'canned diced tomatoes', 'image': 'https://img.spoonacular.com/ingredients_100x100/tomatoes-canned.png'}], 'unusedIngredients': [], 'likes': 3}, {'id': 651707, 'title': 'Mexican Stuffed Potatoes', 'image': 'https://img.spoonacular.com/recipes/651707-312x231.jpg', 'imageType': 'jpg', 'usedIngredientCount': 2, 'missedIngredientCount': 6, 'missedIngredients': [{'id': 23557, 'amount': 0.5, 'unit': 'pound', 'unitLong': 'pounds', 'unitShort': 'lb', 'aisle': 'Meat', 'name': 'extra beef', 'original': '1/2 pound extra lean beef, ground', 'originalName': 'extra lean beef, ground', 'meta': ['lean'], 'extendedName': 'lean extra beef', 'image': 'https://img.spoonacular.com/ingredients_100x100/fresh-ground-beef.jpg'}, {'id': 6164, 'amount': 1.0, 'unit': 'cup', 'unitLong': 'cup', 'unitShort': 'cup', 'aisle': 'Ethnic Foods', 'name': 'salsa', 'original': '1 cup salsa', 'originalName': 'salsa', 'meta': [], 'image': 'https://img.spoonacular.com/ingredients_100x100/salsa.png'}, {'id': 1001168, 'amount': 8.0, 'unit': 'tablespoons', 'unitLong': 'tablespoons', 'unitShort': 'Tbsp', 'aisle': 'Cheese', 'name': 'cheddar cheese', 'original': '8 tablespoons low fat cheddar cheese, shredded', 'originalName': 'low fat cheddar cheese, shredded', 'meta': ['shredded', 'low fat'], 'extendedName': 'low fat shredded cheddar cheese', 'image': 'https://img.spoonacular.com/ingredients_100x100/shredded-cheddar.jpg'}, {'id': 11291, 'amount': 0.5, 'unit': 'cup', 'unitLong': 'cups', 'unitShort': 'cup', 'aisle': 'Produce', 'name': 'green onion', 'original': '1/2 cup green onion, sliced', 'originalName': 'green onion, sliced', 'meta': ['sliced'], 'image': 'https://img.spoonacular.com/ingredients_100x100/spring-onions.jpg'}, {'id': 9037, 'amount': 0.5, 'unit': 'medium', 'unitLong': 'mediums', 'unitShort': 'medium', 'aisle': 'Produce', 'name': 'avocado', 'original': '1/2 medium avocado, finely chopped', 'originalName': 'avocado, finely chopped', 'meta': ['finely chopped'], 'image': 'https://img.spoonacular.com/ingredients_100x100/avocado.jpg'}, {'id': 1056, 'amount': 4.0, 'unit': 'tablespoons', 'unitLong': 'tablespoons', 'unitShort': 'Tbsp', 'aisle': 'Milk, Eggs, Other Dairy', 'name': 'cream', 'original': '4 tablespoons sour cream', 'originalName': 'sour cream', 'meta': ['sour'], 'extendedName': 'sour cream', 'image': 'https://img.spoonacular.com/ingredients_100x100/sour-cream.jpg'}], 'usedIngredients': [{'id': 10211362, 'amount': 4.0, 'unit': 'medium', 'unitLong': 'mediums', 'unitShort': 'medium', 'aisle': 'Produce', 'name': 'yukon gold potatoes', 'original': '4 mediums yukon gold potatoes', 'originalName': 's yukon gold potatoes', 'meta': [], 'image': 'https://img.spoonacular.com/ingredients_100x100/potatoes-yukon-gold.png'}, {'id': 10211529, 'amount': 1.0, 'unit': 'cup', 'unitLong': 'cup', 'unitShort': 'cup', 'aisle': 'Produce', 'name': 'roma tomato', 'original': '1 cup roma tomato, seeded and chopped', 'originalName': 'roma tomato, seeded and chopped', 'meta': ['seeded', 'chopped'], 'image': 'https://img.spoonacular.com/ingredients_100x100/roma-tomatoes.png'}], 'unusedIngredients': [], 'likes': 1}, {'id': 693161, 'title': 'Vegan stuffed zucchini boats', 'image': 'https://img.spoonacular.com/recipes/693161-312x231.jpg', 'imageType': 'jpg', 'usedIngredientCount': 2, 'missedIngredientCount': 6, 'missedIngredients': [{'id': 10211821, 'amount': 1.0, 'unit': '', 'unitLong': '', 'unitShort': '', 'aisle': 'Produce', 'name': 'bell pepper', 'original': '1 bell pepper', 'originalName': 'bell pepper', 'meta': [], 'image': 'https://img.spoonacular.com/ingredients_100x100/bell-pepper-orange.png'}, {'id': 11215, 'amount': 2.0, 'unit': 'cloves', 'unitLong': 'cloves', 'unitShort': 'cloves', 'aisle': 'Produce', 'name': 'garlic', 'original': '2 cloves of garlic', 'originalName': 'garlic', 'meta': [], 'image': 'https://img.spoonacular.com/ingredients_100x100/garlic.png'}, {'id': 10011282, 'amount': 1.5, 'unit': 'medium', 'unitLong': 'mediums', 'unitShort': 'medium', 'aisle': 'Produce', 'name': 'onion', 'original': '1½ medium red onion', 'originalName': 'red onion', 'meta': ['red'], 'extendedName': 'red onion', 'image': 'https://img.spoonacular.com/ingredients_100x100/red-onion.png'}, {'id': 2049, 'amount': 0.25, 'unit': 'teaspoon', 'unitLong': 'teaspoons', 'unitShort': 'tsp', 'aisle': 'Spices and Seasonings', 'name': 'thyme', 'original': '¼ teaspoon thyme', 'originalName': 'thyme', 'meta': [], 'image': 'https://img.spoonacular.com/ingredients_100x100/thyme.jpg'}, {'id': 93701, 'amount': 100.0, 'unit': 'g', 'unitLong': 'grams', 'unitShort': 'g', 'aisle': 'Cheese', 'name': 'vegan cheese', 'original': '100 g grated vegan cheese', 'originalName': 'grated vegan cheese', 'meta': ['grated'], 'image': 'https://img.spoonacular.com/ingredients_100x100/cheddar-cheese.png'}, {'id': 11477, 'amount': 2.0, 'unit': 'medium', 'unitLong': 'mediums', 'unitShort': 'medium', 'aisle': 'Produce', 'name': 'zucchinis', 'original': '2-3 medium zucchinis', 'originalName': 'zucchinis', 'meta': [], 'image': 'https://img.spoonacular.com/ingredients_100x100/zucchini.jpg'}], 'usedIngredients': [{'id': 11352, 'amount': 3.0, 'unit': 'medium', 'unitLong': 'mediums', 'unitShort': 'medium', 'aisle': 'Produce', 'name': 'potatoes', 'original': '3-4 medium potatoes', 'originalName': 'potatoes', 'meta': [], 'image': 'https://img.spoonacular.com/ingredients_100x100/potatoes-yukon-gold.png'}, {'id': 11529, 'amount': 1.0, 'unit': '', 'unitLong': '', 'unitShort': '', 'aisle': 'Produce', 'name': 'tomatoes', 'original': '1-2 tomatoes', 'originalName': 'tomatoes', 'meta': [], 'image': 'https://img.spoonacular.com/ingredients_100x100/tomato.png'}], 'unusedIngredients': [], 'likes': 1}, {'id': 664526, 'title': 'Vegetable Bulgur Pilaf', 'image': 'https://img.spoonacular.com/recipes/664526-312x231.jpg', 'imageType': 'jpg', 'usedIngredientCount': 2, 'missedIngredientCount': 6, 'missedIngredients': [{'id': 20012, 'amount': 1.5, 'unit': 'cups', 'unitLong': 'cups', 'unitShort': 'cup', 'aisle': 'Ethnic Foods', 'name': 'bulgur', 'original': '1 1/2 cups bulgur', 'originalName': 'bulgur', 'meta': [], 'image': 'https://img.spoonacular.com/ingredients_100x100/bulgur-wheat.jpg'}, {'id': 11282, 'amount': 2.0, 'unit': '', 'unitLong': '', 'unitShort': '', 'aisle': 'Produce', 'name': 'onions', 'original': '2 onions', 'originalName': 'onions', 'meta': [], 'image': 'https://img.spoonacular.com/ingredients_100x100/brown-onion.png'}, {'id': 11477, 'amount': 2.0, 'unit': '', 'unitLong': '', 'unitShort': '', 'aisle': 'Produce', 'name': 'zucchini', 'original': '2 zucchini', 'originalName': 'zucchini', 'meta': [], 'image': 'https://img.spoonacular.com/ingredients_100x100/zucchini.jpg'}, {'id': 11819, 'amount': 6.0, 'unit': 'servings', 'unitLong': 'servings', 'unitShort': 'servings', 'aisle': 'Produce', 'name': 'chili pepper', 'original': 'chili pepper, mine was a habanero', 'originalName': 'chili pepper, mine was a habanero', 'meta': [], 'image': 'https://img.spoonacular.com/ingredients_100x100/red-chili.jpg'}, {'id': 1006615, 'amount': 3.0, 'unit': 'cups', 'unitLong': 'cups', 'unitShort': 'cup', 'aisle': 'Canned and Jarred', 'name': 'stock', 'original': '3 cups stock', 'originalName': 'stock', 'meta': [], 'image': 'https://img.spoonacular.com/ingredients_100x100/chicken-broth.png'}, {'id': 2045, 'amount': 6.0, 'unit': 'servings', 'unitLong': 'servings', 'unitShort': 'servings', 'aisle': 'Spices and Seasonings', 'name': 'dill', 'original': 'dill, mint (fresh is possible)', 'originalName': 'dill, mint (fresh is possible)', 'meta': ['fresh', '( is possible)'], 'extendedName': 'fresh dill', 'image': 'https://img.spoonacular.com/ingredients_100x100/dill.jpg'}], 'usedIngredients': [{'id': 11529, 'amount': 3.0, 'unit': '', 'unitLong': '', 'unitShort': '', 'aisle': 'Produce', 'name': 'tomatoes', 'original': '3 tomatoes', 'originalName': 'tomatoes', 'meta': [], 'image': 'https://img.spoonacular.com/ingredients_100x100/tomato.png'}, {'id': 11352, 'amount': 1.0, 'unit': '', 'unitLong': '', 'unitShort': '', 'aisle': 'Produce', 'name': 'potato', 'original': '1 potato', 'originalName': 'potato', 'meta': [], 'image': 'https://img.spoonacular.com/ingredients_100x100/potatoes-yukon-gold.png'}], 'unusedIngredients': [], 'likes': 1}]\n",
            "['Penne with Sausage, Tomatoes and Potatoes', 'Baby Brie-Topped Potato Slices', 'Delicious Creamy Lentils and Chestnuts Soup', 'Potato and Green Bean Side Salad', 'Baked Potato Nests', 'Cod with Tomato-Olive-Chorizo Sauce and Mashed Potatoes', 'Torta (Filipino Omelet)', 'Mexican Stuffed Potatoes', 'Vegan stuffed zucchini boats', 'Vegetable Bulgur Pilaf']\n"
          ]
        }
      ]
    }
  ]
}